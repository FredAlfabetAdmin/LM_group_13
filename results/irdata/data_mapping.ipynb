{
 "cells": [
  {
   "cell_type": "code",
   "execution_count": 92,
   "id": "55b5eb5a-23cd-4c74-9eb3-813a3a61fe61",
   "metadata": {},
   "outputs": [
    {
     "ename": "TypeError",
     "evalue": "isinstance() arg 2 must be a type or tuple of types",
     "output_type": "error",
     "traceback": [
      "\u001b[1;31m---------------------------------------------------------------------------\u001b[0m",
      "\u001b[1;31mTypeError\u001b[0m                                 Traceback (most recent call last)",
      "Input \u001b[1;32mIn [92]\u001b[0m, in \u001b[0;36m<cell line: 42>\u001b[1;34m()\u001b[0m\n\u001b[0;32m     44\u001b[0m scaled_software_data \u001b[38;5;241m=\u001b[39m scaler\u001b[38;5;241m.\u001b[39mfit_transform(software_data)\n\u001b[0;32m     45\u001b[0m scaled_hardware_data \u001b[38;5;241m=\u001b[39m scaler\u001b[38;5;241m.\u001b[39mfit_transform(hardware_data)\n\u001b[1;32m---> 47\u001b[0m \u001b[38;5;28mprint\u001b[39m((\u001b[38;5;28;43misinstance\u001b[39;49m\u001b[43m(\u001b[49m\u001b[43mscaler\u001b[49m\u001b[43m,\u001b[49m\u001b[43m \u001b[49m\u001b[43mPowerTransformer\u001b[49m\u001b[43m(\u001b[49m\u001b[43m)\u001b[49m\u001b[43m)\u001b[49m))\n\u001b[0;32m     48\u001b[0m \u001b[38;5;28;01mif\u001b[39;00m scaler \u001b[38;5;241m==\u001b[39m PowerTransformer():\n\u001b[0;32m     49\u001b[0m     dump(scaler, \u001b[38;5;28mopen\u001b[39m(\u001b[38;5;124m'\u001b[39m\u001b[38;5;124mhardware_powertrans_scaler.pkl\u001b[39m\u001b[38;5;124m'\u001b[39m, \u001b[38;5;124m'\u001b[39m\u001b[38;5;124mwb\u001b[39m\u001b[38;5;124m'\u001b[39m))\n",
      "\u001b[1;31mTypeError\u001b[0m: isinstance() arg 2 must be a type or tuple of types"
     ]
    },
    {
     "data": {
      "text/plain": [
       "<Figure size 720x2160 with 0 Axes>"
      ]
     },
     "metadata": {},
     "output_type": "display_data"
    }
   ],
   "source": [
    "import numpy as np\n",
    "import matplotlib.pyplot as plt\n",
    "from pickle import dump\n",
    "from sklearn.preprocessing import (\n",
    "    MaxAbsScaler,\n",
    "    MinMaxScaler,\n",
    "    Normalizer,\n",
    "    PowerTransformer,\n",
    "    QuantileTransformer,\n",
    "    RobustScaler,\n",
    "    StandardScaler,\n",
    ")\n",
    "\n",
    "# Load data from extremes_software.txt\n",
    "software_data = np.loadtxt('extremes_software.txt', skiprows=1)\n",
    "\n",
    "# Load data from extremes_hardware.txt\n",
    "hardware_data = np.loadtxt('extremes_hardware.txt', skiprows=1)\n",
    "\n",
    "# Sensor names\n",
    "sensor_names = ['BackL', 'BackR', 'FrontL', 'FrontR', 'FrontC', 'FrontRR', 'BackC', 'FrontLL']\n",
    "\n",
    "# Apply various scalers\n",
    "scalers = [\n",
    "    MaxAbsScaler(),\n",
    "    MinMaxScaler(),\n",
    "    Normalizer(),\n",
    "    PowerTransformer(),\n",
    "    QuantileTransformer(),\n",
    "    RobustScaler(),\n",
    "    StandardScaler(),\n",
    "]\n",
    "\n",
    "# Set the number of rows and columns for subplots\n",
    "num_rows = 7\n",
    "num_cols = 2\n",
    "countr = 1\n",
    "\n",
    "# Plot each sensor with different scalers\n",
    "plt.figure(figsize=(10, 30))\n",
    "\n",
    "for j, scaler in enumerate(scalers):\n",
    "    # Fit and transform the data with the current scaler\n",
    "    scaled_software_data = scaler.fit_transform(software_data)\n",
    "    scaled_hardware_data = scaler.fit_transform(hardware_data)\n",
    "    \n",
    "    print((isinstance(scaler, PowerTransformer())))\n",
    "    if j == 1:\n",
    "        dump(scaler, open('hardware_powertrans_scaler.pkl', 'wb'))\n",
    "        dump(scaler, open('software_powertrans_scaler.pkl', 'wb'))\n",
    "    if j == :\n",
    "        dump(scaler, open('hardware_minmax_scaler.pkl', 'wb'))\n",
    "        dump(scaler, open('software_minmax_scaler.pkl', 'wb'))\n",
    "\n",
    "    # Plot the scaled data\n",
    "    plt.subplot(num_rows, num_cols, countr)\n",
    "    for i, sensor_name in enumerate(sensor_names):\n",
    "        plt.plot(scaled_software_data[:, i], label=f\"{sensor_name}\")\n",
    "        \n",
    "    plt.title(f\"Software - {type(scaler).__name__}\")\n",
    "    plt.xlabel(\"Time Steps\")\n",
    "    plt.ylabel(\"Scaled Sensor Readings\")\n",
    "    plt.legend()\n",
    "        \n",
    "    # Plot the scaled data\n",
    "    plt.subplot(num_rows, num_cols, countr + 1)\n",
    "    for i, sensor_name in enumerate(sensor_names):\n",
    "        plt.plot(scaled_hardware_data[:, i], label=f\"{sensor_name}\")\n",
    "\n",
    "    plt.title(f\"Hardware - {type(scaler).__name__}\")\n",
    "    plt.xlabel(\"Time Steps\")\n",
    "    plt.ylabel(\"Scaled Sensor Readings\")\n",
    "    plt.legend()\n",
    "    countr += 2\n",
    "\n",
    "# Adjust layout for better spacing\n",
    "plt.tight_layout()\n",
    "plt.savefig(\"different_scalers.png\")\n"
   ]
  },
  {
   "cell_type": "code",
   "execution_count": null,
   "id": "620cb57e-9d30-4e1d-88e7-3ef534b9cf03",
   "metadata": {},
   "outputs": [],
   "source": []
  }
 ],
 "metadata": {
  "kernelspec": {
   "display_name": "Python 3 (ipykernel)",
   "language": "python",
   "name": "python3"
  },
  "language_info": {
   "codemirror_mode": {
    "name": "ipython",
    "version": 3
   },
   "file_extension": ".py",
   "mimetype": "text/x-python",
   "name": "python",
   "nbconvert_exporter": "python",
   "pygments_lexer": "ipython3",
   "version": "3.9.13"
  }
 },
 "nbformat": 4,
 "nbformat_minor": 5
}
