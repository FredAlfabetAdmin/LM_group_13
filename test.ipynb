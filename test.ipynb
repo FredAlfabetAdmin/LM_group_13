{
 "cells": [
  {
   "cell_type": "code",
   "execution_count": 111,
   "metadata": {},
   "outputs": [],
   "source": [
    "import torch\n",
    "from torch import nn"
   ]
  },
  {
   "cell_type": "code",
   "execution_count": 112,
   "metadata": {},
   "outputs": [],
   "source": [
    "class LSTM(nn.Module):\n",
    "    def __init__(self, input_dim: int, hidden_dim: int, output_dim: int, num_layers: int):\n",
    "        super().__init__()\n",
    "        self.lstm = nn.LSTM(input_dim, hidden_dim, num_layers=num_layers, batch_first=True)\n",
    "        self.fc = nn.Linear(hidden_dim, output_dim)\n",
    "        self.hidden = torch.zeros((num_layers, 1, hidden_dim))\n",
    "        self.cstate = torch.zeros((num_layers, 1, hidden_dim))\n",
    "    \n",
    "    def forward(self, x):\n",
    "        print(x.size())\n",
    "        output, (hidden, cstate) = self.lstm(x, (self.hidden, self.cstate))\n",
    "        print(output.size())\n",
    "        self.hidden = hidden\n",
    "        self.cstate = cstate\n",
    "        print(output.size())\n",
    "        output = self.fc(output)\n",
    "        return output\n",
    "network = LSTM(14, 16, 4, 1)"
   ]
  },
  {
   "cell_type": "code",
   "execution_count": 113,
   "metadata": {},
   "outputs": [],
   "source": [
    "seq = torch.zeros((1, 8, 14), dtype=torch.float32)\n",
    "x = torch.ones((14,), dtype=torch.float32)"
   ]
  },
  {
   "cell_type": "code",
   "execution_count": 114,
   "metadata": {},
   "outputs": [
    {
     "name": "stdout",
     "output_type": "stream",
     "text": [
      "torch.Size([1, 8, 14])\n",
      "torch.Size([1, 8, 16])\n",
      "torch.Size([1, 8, 16])\n"
     ]
    },
    {
     "data": {
      "text/plain": [
       "torch.Size([1, 8, 4])"
      ]
     },
     "execution_count": 114,
     "metadata": {},
     "output_type": "execute_result"
    }
   ],
   "source": [
    "network(seq)"
   ]
  }
 ],
 "metadata": {
  "kernelspec": {
   "display_name": "LM2023",
   "language": "python",
   "name": "python3"
  },
  "language_info": {
   "codemirror_mode": {
    "name": "ipython",
    "version": 3
   },
   "file_extension": ".py",
   "mimetype": "text/x-python",
   "name": "python",
   "nbconvert_exporter": "python",
   "pygments_lexer": "ipython3",
   "version": "3.11.0"
  }
 },
 "nbformat": 4,
 "nbformat_minor": 2
}
