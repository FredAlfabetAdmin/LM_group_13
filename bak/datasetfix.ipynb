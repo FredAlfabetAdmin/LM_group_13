{
 "cells": [
  {
   "cell_type": "code",
   "execution_count": 5,
   "metadata": {},
   "outputs": [],
   "source": [
    "import os, glob\n",
    "import pandas as pd"
   ]
  },
  {
   "cell_type": "code",
   "execution_count": 13,
   "metadata": {},
   "outputs": [],
   "source": [
    "for file_ in glob.glob('./dataset/*.csv'):\n",
    "    df = pd.read_csv(file_)\n",
    "    idx_to_remove = []\n",
    "    for index, row in df.iterrows():\n",
    "        if not os.path.exists(f'./dataset/images/{row[\"image\"]}'):\n",
    "            idx_to_remove.append(index)\n",
    "    if len(idx_to_remove) > 0:\n",
    "        df = df.drop(idx_to_remove)\n",
    "        df.to_csv(file_,index=False)"
   ]
  }
 ],
 "metadata": {
  "kernelspec": {
   "display_name": "LM2023",
   "language": "python",
   "name": "python3"
  },
  "language_info": {
   "codemirror_mode": {
    "name": "ipython",
    "version": 3
   },
   "file_extension": ".py",
   "mimetype": "text/x-python",
   "name": "python",
   "nbconvert_exporter": "python",
   "pygments_lexer": "ipython3",
   "version": "3.11.0"
  }
 },
 "nbformat": 4,
 "nbformat_minor": 2
}
